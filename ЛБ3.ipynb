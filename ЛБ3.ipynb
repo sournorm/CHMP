{
  "nbformat": 4,
  "nbformat_minor": 0,
  "metadata": {
    "colab": {
      "provenance": [],
      "authorship_tag": "ABX9TyOAvE6wwzRLBGK25IjHC4L5",
      "include_colab_link": true
    },
    "kernelspec": {
      "name": "python3",
      "display_name": "Python 3"
    },
    "language_info": {
      "name": "python"
    }
  },
  "cells": [
    {
      "cell_type": "markdown",
      "metadata": {
        "id": "view-in-github",
        "colab_type": "text"
      },
      "source": [
        "<a href=\"https://colab.research.google.com/github/sournorm/CHMP/blob/main/%D0%9B%D0%913.ipynb\" target=\"_parent\"><img src=\"https://colab.research.google.com/assets/colab-badge.svg\" alt=\"Open In Colab\"/></a>"
      ]
    },
    {
      "cell_type": "markdown",
      "source": [
        "#Запорожан Сергій Андрійович\n",
        "Лабораторна робота №3\n",
        "\n",
        "ФІТ 2-8\n",
        "\n",
        "\n",
        "Варіант№7"
      ],
      "metadata": {
        "id": "23cU_3TSiJ0o"
      }
    },
    {
      "cell_type": "code",
      "source": [
        "import numpy as np\n",
        "\n",
        "# Визначення функції\n",
        "f = lambda x: x**4 + 2*x**3 + 2*x**2 + 6*x - 5\n",
        "\n",
        "# Похідна першого порядку\n",
        "def derivative_first(f, x, h=1e-5):\n",
        "    return (f(x + h) - f(x - h)) / (2 * h)\n",
        "\n",
        "# Похідна другого порядку\n",
        "def derivative_second(f, x, h=1e-5):\n",
        "    return (f(x + h) - 2*f(x) + f(x - h)) / (h**2)\n",
        "\n",
        "# Відокремлення коренів\n",
        "def find_segments():\n",
        "    search_range = np.arange(-10, 10, 1)\n",
        "    a = None\n",
        "    previous_x = None\n",
        "    current_x = None\n",
        "    segments = []\n",
        "    for x in search_range:\n",
        "        x = round(x, 4)\n",
        "        current_x = f(x)\n",
        "        if previous_x is not None and previous_x * current_x < 0:\n",
        "            segments.append((a, x))\n",
        "        a = x\n",
        "        previous_x = current_x\n",
        "    return segments\n",
        "\n",
        "# Метод Ньютона (дотичних)\n",
        "def nuton(a, b, eps, f):\n",
        "    df2 = derivative_second(f, b)\n",
        "    if f(b) * df2 > 0:\n",
        "        xi = b\n",
        "    else:\n",
        "        xi = a\n",
        "    df = derivative_first(f, xi)\n",
        "    xi_1 = xi - f(xi) / df\n",
        "    while abs(xi_1 - xi) > eps:\n",
        "        xi = xi_1\n",
        "        df = derivative_first(f, xi)\n",
        "        xi_1 = xi - f(xi) / df\n",
        "    print('Метод Ньютона, x = ', xi_1.round(4))\n",
        "\n",
        "# Комбінований метод\n",
        "def komb(a, b, eps, f):\n",
        "    if derivative_first(f, a) * derivative_second(f, a) > 0:\n",
        "        a0 = a\n",
        "        b0 = b\n",
        "    else:\n",
        "        a0 = b\n",
        "        b0 = a\n",
        "    ai = a0\n",
        "    bi = b0\n",
        "    while abs(ai - bi) > eps:\n",
        "        ai_1 = ai - f(ai) * (bi - ai) / (f(bi) - f(ai))\n",
        "        bi_1 = bi - f(bi) / derivative_first(f, bi)\n",
        "        ai = ai_1\n",
        "        bi = bi_1\n",
        "        x = (ai_1 + bi_1) / 2\n",
        "    print('Комбінований метод, x = ', x.round(4))\n",
        "\n",
        "# Основна програма\n",
        "if __name__ == \"__main__\":\n",
        "    segments = find_segments()\n",
        "    eps = 0.001\n",
        "\n",
        "    for a, b in segments:\n",
        "        print(f\"\\nРозв'язки на відрізку [{a}, {b}]\")\n",
        "        nuton(a, b, eps, f)\n",
        "        komb(a, b, eps, f)\n"
      ],
      "metadata": {
        "colab": {
          "base_uri": "https://localhost:8080/"
        },
        "id": "flPHrezniUky",
        "outputId": "c041dfc3-d974-4973-a51f-bb6db342a065"
      },
      "execution_count": 4,
      "outputs": [
        {
          "output_type": "stream",
          "name": "stdout",
          "text": [
            "\n",
            "Розв'язки на відрізку [-3, -2]\n",
            "Метод Ньютона, x =  -2.4891\n",
            "Комбінований метод, x =  -2.4891\n",
            "\n",
            "Розв'язки на відрізку [0, 1]\n",
            "Метод Ньютона, x =  0.6103\n",
            "Комбінований метод, x =  0.6103\n"
          ]
        }
      ]
    },
    {
      "cell_type": "markdown",
      "source": [],
      "metadata": {
        "id": "m19MF8vckLQi"
      }
    }
  ]
}